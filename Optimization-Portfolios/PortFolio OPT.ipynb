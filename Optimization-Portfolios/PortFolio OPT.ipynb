{
 "cells": [
  {
   "cell_type": "markdown",
   "id": "ee358162",
   "metadata": {},
   "source": [
    "# Portfolio Optimization (Sharpe Ratio) Some Ideas"
   ]
  },
  {
   "cell_type": "markdown",
   "id": "47588a29",
   "metadata": {},
   "source": [
    "We are going to use the Python Library PyPotfolioOpt. The documentation of the library can be found in the following link.  https://pypi.org/project/pyportfolioopt/#description"
   ]
  },
  {
   "cell_type": "code",
   "execution_count": 1,
   "id": "6cb21d0c",
   "metadata": {},
   "outputs": [],
   "source": [
    "import pandas_datareader.data as web\n",
    "import datetime\n",
    "import pandas as pd \n",
    "pd.set_option('display.max_columns', None)\n",
    "pd.set_option('display.max_rows', None)"
   ]
  },
  {
   "cell_type": "code",
   "execution_count": 6,
   "id": "ae284a1f",
   "metadata": {},
   "outputs": [],
   "source": [
    "start = datetime.datetime(2019,9,15)\n",
    "end = datetime.datetime(2022,2,15)  # This is the start/end dates for the price of stocks"
   ]
  },
  {
   "cell_type": "code",
   "execution_count": 7,
   "id": "31bb61f5",
   "metadata": {},
   "outputs": [],
   "source": [
    "def get_stock(ticker):\n",
    "    data = web.DataReader(f\"{ticker}\",\"yahoo\",start,end)\n",
    "    data[f'{ticker}'] = data[\"Close\"]\n",
    "    data = data[[f'{ticker}']] \n",
    "    print(data.head())\n",
    "    return data "
   ]
  },
  {
   "cell_type": "code",
   "execution_count": 8,
   "id": "13a3f9a0",
   "metadata": {},
   "outputs": [
    {
     "name": "stdout",
     "output_type": "stream",
     "text": [
      "                  PFE\n",
      "Date                 \n",
      "2019-09-16  34.943073\n",
      "2019-09-17  34.629982\n",
      "2019-09-18  34.516129\n",
      "2019-09-19  34.639469\n",
      "2019-09-20  34.810246\n",
      "                   JNJ\n",
      "Date                  \n",
      "2019-09-16  129.539993\n",
      "2019-09-17  129.669998\n",
      "2019-09-18  130.410004\n",
      "2019-09-19  130.110001\n",
      "2019-09-20  131.649994\n"
     ]
    }
   ],
   "source": [
    "pfizer = get_stock(\"PFE\")\n",
    "jnj = get_stock(\"JNJ\")"
   ]
  },
  {
   "cell_type": "code",
   "execution_count": 10,
   "id": "0ccf29ee",
   "metadata": {},
   "outputs": [
    {
     "name": "stdout",
     "output_type": "stream",
     "text": [
      "                 MRNA\n",
      "Date                 \n",
      "2019-09-16  17.049999\n",
      "2019-09-17  17.660000\n",
      "2019-09-18  17.780001\n",
      "2019-09-19  17.900000\n",
      "2019-09-20  18.070000\n",
      "                  PFE\n",
      "Date                 \n",
      "2019-09-16  34.943073\n",
      "2019-09-17  34.629982\n",
      "2019-09-18  34.516129\n",
      "2019-09-19  34.639469\n",
      "2019-09-20  34.810246\n",
      "                   JNJ\n",
      "Date                  \n",
      "2019-09-16  129.539993\n",
      "2019-09-17  129.669998\n",
      "2019-09-18  130.410004\n",
      "2019-09-19  130.110001\n",
      "2019-09-20  131.649994\n",
      "                  GOOGL\n",
      "Date                   \n",
      "2019-09-16  1231.630005\n",
      "2019-09-17  1229.880005\n",
      "2019-09-18  1232.650024\n",
      "2019-09-19  1238.750000\n",
      "2019-09-20  1229.839966\n",
      "                    FB\n",
      "Date                  \n",
      "2019-09-16  186.220001\n",
      "2019-09-17  188.080002\n",
      "2019-09-18  188.139999\n",
      "2019-09-19  190.139999\n",
      "2019-09-20  189.929993\n",
      "                 AAPL\n",
      "Date                 \n",
      "2019-09-16  54.974998\n",
      "2019-09-17  55.174999\n",
      "2019-09-18  55.692501\n",
      "2019-09-19  55.240002\n",
      "2019-09-20  54.432499\n",
      "                  COST\n",
      "Date                  \n",
      "2019-09-16  288.690002\n",
      "2019-09-17  291.410004\n",
      "2019-09-18  292.429993\n",
      "2019-09-19  287.829987\n",
      "2019-09-20  286.359985\n",
      "                   WMT\n",
      "Date                  \n",
      "2019-09-16  115.570000\n",
      "2019-09-17  116.510002\n",
      "2019-09-18  117.160004\n",
      "2019-09-19  117.110001\n",
      "2019-09-20  116.980003\n",
      "                   KR\n",
      "Date                 \n",
      "2019-09-16  25.980000\n",
      "2019-09-17  25.650000\n",
      "2019-09-18  25.219999\n",
      "2019-09-19  25.820000\n",
      "2019-09-20  25.680000\n",
      "                   JPM\n",
      "Date                  \n",
      "2019-09-16  119.160004\n",
      "2019-09-17  118.570000\n",
      "2019-09-18  119.760002\n",
      "2019-09-19  119.379997\n",
      "2019-09-20  118.900002\n",
      "                  BAC\n",
      "Date                 \n",
      "2019-09-16  30.129999\n",
      "2019-09-17  29.940001\n",
      "2019-09-18  30.000000\n",
      "2019-09-19  29.820000\n",
      "2019-09-20  29.590000\n",
      "                 HSBC\n",
      "Date                 \n",
      "2019-09-16  38.389999\n",
      "2019-09-17  38.299999\n",
      "2019-09-18  38.200001\n",
      "2019-09-19  38.230000\n",
      "2019-09-20  38.160000\n",
      "                 MRNA        PFE         JNJ        GOOGL          FB  \\\n",
      "Date                                                                    \n",
      "2019-09-16  17.049999  34.943073  129.539993  1231.630005  186.220001   \n",
      "2019-09-17  17.660000  34.629982  129.669998  1229.880005  188.080002   \n",
      "2019-09-18  17.780001  34.516129  130.410004  1232.650024  188.139999   \n",
      "2019-09-19  17.900000  34.639469  130.110001  1238.750000  190.139999   \n",
      "2019-09-20  18.070000  34.810246  131.649994  1229.839966  189.929993   \n",
      "\n",
      "                 AAPL        COST         WMT         KR         JPM  \\\n",
      "Date                                                                   \n",
      "2019-09-16  54.974998  288.690002  115.570000  25.980000  119.160004   \n",
      "2019-09-17  55.174999  291.410004  116.510002  25.650000  118.570000   \n",
      "2019-09-18  55.692501  292.429993  117.160004  25.219999  119.760002   \n",
      "2019-09-19  55.240002  287.829987  117.110001  25.820000  119.379997   \n",
      "2019-09-20  54.432499  286.359985  116.980003  25.680000  118.900002   \n",
      "\n",
      "                  BAC       HSBC  \n",
      "Date                              \n",
      "2019-09-16  30.129999  38.389999  \n",
      "2019-09-17  29.940001  38.299999  \n",
      "2019-09-18  30.000000  38.200001  \n",
      "2019-09-19  29.820000  38.230000  \n",
      "2019-09-20  29.590000  38.160000  \n"
     ]
    }
   ],
   "source": [
    "from functools import reduce\n",
    "\n",
    "def combine_stocks(tickers):\n",
    "    data_frames = []\n",
    "    for i in tickers:\n",
    "        data_frames.append(get_stock(i))\n",
    "        \n",
    "    df_merged = reduce(lambda  left,right: pd.merge(left,right,on=['Date'], how='outer'), data_frames)\n",
    "    print(df_merged.head())\n",
    "    return df_merged\n",
    "\n",
    "\n",
    "stocks = [\"MRNA\", \"PFE\", \"JNJ\", \"GOOGL\", \n",
    "          \"FB\", \"AAPL\", \"COST\", \"WMT\", \"KR\", \"JPM\", \n",
    "          \"BAC\", \"HSBC\"]\n",
    "portfolio = combine_stocks(stocks)"
   ]
  },
  {
   "cell_type": "code",
   "execution_count": 12,
   "id": "ef1385c8",
   "metadata": {},
   "outputs": [],
   "source": [
    "portfolio.to_csv(\"portfolio.csv\", index=False) #Creation of a CSV File\n",
    "portfolio = pd.read_csv(\"portfolio.csv\") \n"
   ]
  },
  {
   "cell_type": "markdown",
   "id": "0fb8800e",
   "metadata": {},
   "source": [
    "We are going to implement the mean variance optimization method. We are going to need the covariance matrix, as well as the returns."
   ]
  },
  {
   "cell_type": "code",
   "execution_count": 13,
   "id": "821208f0",
   "metadata": {},
   "outputs": [],
   "source": [
    "from pypfopt.expected_returns import mean_historical_return\n",
    "from pypfopt.risk_models import CovarianceShrinkage\n",
    "\n",
    "\n",
    "mu = mean_historical_return(portfolio)\n",
    "S = CovarianceShrinkage(portfolio).ledoit_wolf()"
   ]
  },
  {
   "cell_type": "markdown",
   "id": "e9ac7ae1",
   "metadata": {},
   "source": [
    "With the EfficientFrontier module we are going to calculate the weights of the basket. We are going to maximize the sharpe ratio (ratio between return and risk). The algorithm in the library looks for the maximum Sharpe ratio, which means that the constructed portfolio has the highest return and lower risk (better performance). "
   ]
  },
  {
   "cell_type": "code",
   "execution_count": 14,
   "id": "7d67d8c1",
   "metadata": {},
   "outputs": [
    {
     "name": "stdout",
     "output_type": "stream",
     "text": [
      "{'MRNA': 0.23293, 'PFE': 0.0, 'JNJ': 0.0, 'GOOGL': 0.09047, 'FB': 0.0, 'AAPL': 0.48131, 'COST': 0.0, 'WMT': 0.0, 'KR': 0.19528, 'JPM': 0.0, 'BAC': 0.0, 'HSBC': 0.0}\n"
     ]
    }
   ],
   "source": [
    "from pypfopt.efficient_frontier import EfficientFrontier #The output of this code are the weights of the different stocks. \n",
    "\n",
    "ef = EfficientFrontier(mu, S)\n",
    "weights = ef.max_sharpe()\n",
    "\n",
    "cleaned_weights = ef.clean_weights()\n",
    "print(dict(cleaned_weights))"
   ]
  },
  {
   "cell_type": "code",
   "execution_count": 15,
   "id": "dc4f998f",
   "metadata": {},
   "outputs": [
    {
     "name": "stdout",
     "output_type": "stream",
     "text": [
      "Expected annual return: 72.0%\n",
      "Annual volatility: 30.0%\n",
      "Sharpe Ratio: 2.34\n"
     ]
    },
    {
     "data": {
      "text/plain": [
       "(0.7201117174204256, 0.29955848718290584, 2.337145323453807)"
      ]
     },
     "execution_count": 15,
     "metadata": {},
     "output_type": "execute_result"
    }
   ],
   "source": [
    "ef.portfolio_performance(verbose=True) #Display of portfolio performance"
   ]
  },
  {
   "cell_type": "code",
   "execution_count": 16,
   "id": "a2a32b41",
   "metadata": {},
   "outputs": [
    {
     "name": "stdout",
     "output_type": "stream",
     "text": [
      "Discrete allocation: {'AAPL': 2785, 'MRNA': 1541, 'KR': 4207, 'GOOGL': 33}\n",
      "Funds remaining: $495.48\n"
     ]
    }
   ],
   "source": [
    "from pypfopt.discrete_allocation import DiscreteAllocation, get_latest_prices \n",
    "\n",
    "latest_prices = get_latest_prices(portfolio)\n",
    "\n",
    "da = DiscreteAllocation(weights, latest_prices, total_portfolio_value=1000000) \n",
    "                                                                               \n",
    "#Example of the number of shares we must buy of each stock with a Notional of 1M USD\n",
    "allocation, leftover = da.greedy_portfolio()\n",
    "print(\"Discrete allocation:\", allocation)\n",
    "print(\"Funds remaining: ${:.2f}\".format(leftover))"
   ]
  },
  {
   "cell_type": "markdown",
   "id": "84427cd1",
   "metadata": {},
   "source": [
    "We must buy 2785 shares of Apple, 1541 of MRNA, 4207 of KR, 33 of GOOGL. "
   ]
  }
 ],
 "metadata": {
  "kernelspec": {
   "display_name": "Python 3 (ipykernel)",
   "language": "python",
   "name": "python3"
  },
  "language_info": {
   "codemirror_mode": {
    "name": "ipython",
    "version": 3
   },
   "file_extension": ".py",
   "mimetype": "text/x-python",
   "name": "python",
   "nbconvert_exporter": "python",
   "pygments_lexer": "ipython3",
   "version": "3.9.7"
  }
 },
 "nbformat": 4,
 "nbformat_minor": 5
}
