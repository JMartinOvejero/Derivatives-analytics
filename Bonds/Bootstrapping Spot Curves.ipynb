{
 "cells": [
  {
   "cell_type": "markdown",
   "metadata": {},
   "source": [
    "# Bootstrapping Spot Curves"
   ]
  },
  {
   "cell_type": "markdown",
   "metadata": {},
   "source": [
    "Bootstrapping is the main technique for building a yield curve from real market data. We have $N$ bonds with maturities\n",
    "\n",
    "$$T_1<T_2<\\cdots < T_N$$\n",
    "\n",
    "and observable markets prices $P_1,P_2,\\cdots, P_n$.\n",
    "\n",
    "We first choose $d(T)$ (discount rate) for $T\\leq T_1$ to discount the coupons of bond 1 and recover $P_1$. We then choose $d(T)$ for $T_1<T\\leq T_2$ s.t together with the values already chosen for $T\\leq T_1$ we recover price $P-2$ for bond $2$. We continue through all $N$ bonds until we have a discount factor $d(T)$ for $T\\leq T_N$"
   ]
  },
  {
   "cell_type": "markdown",
   "metadata": {},
   "source": [
    "### Example\n",
    "\n",
    "We have 3 bonds\n",
    "\n",
    "   1. Bond 1, zero coupon bond with 1000 dollars face value matuing in 6 months.\n",
    "   2. Bond 2, a bond with 5% coupon, semiannual payments, 10,000 dollars face value, and maturing in 1 year\n",
    "   3. Bond 3, a bond with 7% coupon, annual payments, 10,000 dollars face value, and maturing in 2 years\n",
    "We suppose the bonds are trading at prices\n",
    "\n",
    "$$P_1=985\\hspace{1cm} P_2=10,124,\\hspace{1cm} P_3=10,507$$"
   ]
  },
  {
   "cell_type": "markdown",
   "metadata": {},
   "source": [
    "We bootstrap the yield curve at 3 different tenors, \n",
    "\n",
    "$$T_1=0.5 \\hspace{1cm} T_2=1\\hspace{1cm}T_3=2$$\n",
    "\n",
    "The bond prices allow us to calibrate the discount factors $d(T_i)$ for $1\\leq i \\leq 3$ or equivalently, the yields $y(T_i)$ with $1\\leq i\\leq 3$"
   ]
  },
  {
   "cell_type": "markdown",
   "metadata": {},
   "source": [
    "We know that \n",
    "\n",
    "$$P_1=d(0.5)(1000)$$\n",
    "\n",
    "therefore $d(0.5)=0.985$. Since the discount factor and the yield factor are related by the formula\n",
    "\n",
    "$$d(T)=e^{-y(T)T}$$\n",
    "\n",
    "we conclude that\n",
    "\n",
    "$$y(T)=-\\frac{\\log(d(t))}{T}$$\n",
    "\n",
    "so $y(0.5)=0.030=3\\%$"
   ]
  },
  {
   "cell_type": "markdown",
   "metadata": {},
   "source": [
    "The second bond is a trickier. Since we have two differents pays, we compute the present value as\n",
    "\n",
    "$$P_2=d(0.5)250+d(1)(10,250)\\Rightarrow d(1)=0.9637\\Rightarrow y(1)=3.7\\%$$\n",
    "\n",
    "Analogously we obtain $Y(2)=0.042)4.2\\%$\n"
   ]
  },
  {
   "cell_type": "markdown",
   "metadata": {},
   "source": [
    "There are many interpolation methods for building a yield curve. The piecewise linear method is the simplest (and it seems in practice is the default method). The resulting yield curve may now be used to produce discount factors, price bonds, etc. Another curve fitting techniques are avaible and will be the subject of another notebook. "
   ]
  },
  {
   "cell_type": "markdown",
   "metadata": {},
   "source": [
    "From the above example, using the constructed yield curve, we are goignt to compute the discount factors \n",
    "\n",
    "$$d(0.5)\\hspace{1cm} d(1)\\hspace{1cm} d(1.5) \\hspace{1cm} d(2)$$\n",
    "\n",
    "Moreover, we are going to price a $2$-year bond with a $100.000 \\$ $ face value with a $7%$ coupon paid semiannually"
   ]
  },
  {
   "cell_type": "markdown",
   "metadata": {},
   "source": [
    "Since we the yield curve is constructed with the discount factors of the example above, we only need to compute $d(1.5)$. In particular\n",
    "\n",
    "$$d(1.5)=e^{-y(1.5)(1.5)$$\n",
    "\n",
    "The yiedl $y(1.5)$ must be calculated from interpolation of the values y(1)$ and $y(2)$. Since we are computing the yield curve as piecewise linear, \n",
    "\n",
    "$$y(1.5)=\\frac{y(1)+y(2)}{2}=0.0395\\Rightarrow d(1.5)=0.942$$\n",
    "\n",
    "Pricing the bond is a matter of applying the discount factors we have computed. \n",
    "\n",
    "$$Price=d(0.5)3500+d(1)3500+d(1.5)3500+d(2)103500=\\$105224$$"
   ]
  },
  {
   "cell_type": "code",
   "execution_count": null,
   "metadata": {},
   "outputs": [],
   "source": []
  }
 ],
 "metadata": {
  "kernelspec": {
   "display_name": "Python 3",
   "language": "python",
   "name": "python3"
  },
  "language_info": {
   "codemirror_mode": {
    "name": "ipython",
    "version": 3
   },
   "file_extension": ".py",
   "mimetype": "text/x-python",
   "name": "python",
   "nbconvert_exporter": "python",
   "pygments_lexer": "ipython3",
   "version": "3.7.6"
  }
 },
 "nbformat": 4,
 "nbformat_minor": 4
}
