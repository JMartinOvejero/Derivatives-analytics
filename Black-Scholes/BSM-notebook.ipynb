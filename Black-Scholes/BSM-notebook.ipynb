{
 "cells": [
  {
   "cell_type": "code",
   "execution_count": 1,
   "metadata": {},
   "outputs": [],
   "source": [
    "\n",
    "import math\n",
    "import numpy as np\n",
    "import matplotlib as mpl\n",
    "import matplotlib.pyplot as plt\n",
    "mpl.rcParams['font.family']='serif'\n",
    "from scipy.integrate import quad\n",
    "\n",
    "#Auxiliary functions\n",
    "#===============================================================================================================\n",
    "def dN(x):\n",
    "    return math.exp(-0.5*x**2)/math.sqrt(2*math.pi) #Prob. density function standard normal random variable x\n",
    "\n",
    "def N(d):\n",
    "    return quad(lambda x:dN(x),-20,d,limit=50)[0]  #Cumulative density function of standard normal random variable x\n",
    "\n",
    "def dif(St,K,t,T,r,sigma): #d1 function Black-Scholes\n",
    "    d1=(math.log(St/K)+(r+0.5*sigma**2)*(T-t))/(sigma*math.sqrt(T-t))\n",
    "    return(d1)\n",
    "\n",
    "#Valuation functions\n",
    "#===============================================================================================================\n",
    "def BSM_call_value(St,K,t,T,r,sigma): #Black Scholes European call option value\n",
    "    #Parameters\n",
    "    #=====================================\n",
    "    St:float #stock/index level at time t\n",
    "    K:float #strike price\n",
    "    t:float #valuation date\n",
    "    T:float #date of maturity\n",
    "    r:float #risk-less short rate constant\n",
    "    sigma:float #volatility\n",
    "        \n",
    "    #Returns\n",
    "    #=====================================\n",
    "    \n",
    "    call_value: float #European call present value at t\n",
    "    \n",
    "    d1=dif(St,K,t,T,r,sigma)\n",
    "    d2=d1-sigma*math.sqrt(T-t)\n",
    "    call_value=St*N(d1)-math.exp(-r*(T-t))*K*N(d2)\n",
    "    return call_value\n",
    "\n",
    "def BSM_put_value(St,K,t,T,r,sigma): #Black Scholes European put option value\n",
    "    \n",
    "    #Parameters\n",
    "    #=====================================\n",
    "    St:float #stock/index level at time t\n",
    "    K:float #strike price\n",
    "    t:float #valuation date\n",
    "    T:float #date of maturity\n",
    "    r:float #risk-less short rate constant\n",
    "    sigma:float #volatility\n",
    "        \n",
    "    #Returns\n",
    "    #=====================================\n",
    "    put_value: float #European put present value at t\n",
    "        \n",
    "    put_value=BSM_call_value(St,K,t,T,r,sigma) -St+math.exp(-r*(T-t))*K\n",
    "    \n",
    "    return put_value\n",
    "\n"
   ]
  },
  {
   "cell_type": "code",
   "execution_count": 2,
   "metadata": {},
   "outputs": [
    {
     "data": {
      "text/plain": [
       "2.4982588907078367e-23"
      ]
     },
     "execution_count": 2,
     "metadata": {},
     "output_type": "execute_result"
    }
   ],
   "source": [
    "K=8000\n",
    "T=1.0\n",
    "r=0.025\n",
    "vol=0.2\n",
    "BSM_call_value(1000,K,0,T,r,vol)"
   ]
  },
  {
   "cell_type": "code",
   "execution_count": null,
   "metadata": {},
   "outputs": [],
   "source": []
  }
 ],
 "metadata": {
  "kernelspec": {
   "display_name": "Python 3",
   "language": "python",
   "name": "python3"
  },
  "language_info": {
   "codemirror_mode": {
    "name": "ipython",
    "version": 3
   },
   "file_extension": ".py",
   "mimetype": "text/x-python",
   "name": "python",
   "nbconvert_exporter": "python",
   "pygments_lexer": "ipython3",
   "version": "3.7.6"
  }
 },
 "nbformat": 4,
 "nbformat_minor": 4
}
